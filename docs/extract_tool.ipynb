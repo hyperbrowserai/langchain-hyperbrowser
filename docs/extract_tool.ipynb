{
    "cells": [
        {
            "cell_type": "markdown",
            "metadata": {},
            "source": [
                "---\n",
                "sidebar_label: Hyperbrowser Extract\n",
                "---\n"
            ]
        },
        {
            "cell_type": "markdown",
            "metadata": {},
            "source": [
                "# Extract Tool\n",
                "\n",
                "The `extract_tool` is a powerful tool that uses AI to extract structured data from web pages. It can extract information based on natural language prompts or predefined schemas, making it perfect for gathering specific data from websites.\n",
                "\n",
                "## Overview\n",
                "\n",
                "### Integration details\n",
                "\n",
                "| Tool         | Package                | Local | Serializable | [JS support](https://js.langchain.com/docs/integrations/document_loaders/web_loaders/langchain_hyperbrowser_loader) |\n",
                "| :----------- | :--------------------- | :---: | :----------: | :-----------------------------------------------------------------------------------------------------------------: |\n",
                "| Extract Tool | langchain-hyperbrowser |  ❌   |      ❌      |                                                         ❌                                                          |\n",
                "\n",
                "## Setup\n",
                "\n",
                "To access the extract tool you'll need to install the `langchain-hyperbrowser` integration package, and create a Hyperbrowser account and get an API key.\n",
                "\n",
                "### Credentials\n",
                "\n",
                "Head to [Hyperbrowser](https://app.hyperbrowser.ai/) to sign up and generate an API key. Once you've done this set the HYPERBROWSER_API_KEY environment variable:\n",
                "\n",
                "```bash\n",
                "export HYPERBROWSER_API_KEY=<your-api-key>\n",
                "```\n"
            ]
        },
        {
            "cell_type": "markdown",
            "metadata": {},
            "source": [
                "### Installation\n",
                "\n",
                "Install **langchain-hyperbrowser**.\n"
            ]
        },
        {
            "cell_type": "code",
            "execution_count": null,
            "metadata": {},
            "outputs": [],
            "source": [
                "%pip install -qU langchain-hyperbrowser"
            ]
        },
        {
            "cell_type": "markdown",
            "metadata": {},
            "source": [
                "## Basic Usage\n",
                "\n",
                "### Simple Extraction\n"
            ]
        },
        {
            "cell_type": "code",
            "execution_count": 4,
            "metadata": {},
            "outputs": [
                {
                    "name": "stdout",
                    "output_type": "stream",
                    "text": [
                        "{'data': {'title': 'Example Domain'}, 'error': None}\n"
                    ]
                }
            ],
            "source": [
                "from langchain_hyperbrowser import HyperbrowserExtractTool\n",
                "\n",
                "result = HyperbrowserExtractTool().invoke(\n",
                "    {\n",
                "        \"url\": \"https://example.com\",\n",
                "        \"extraction_prompt\": \"Extract the title of the page only.\",\n",
                "        \"json_schema\": None,\n",
                "    }\n",
                ")\n",
                "print(result)"
            ]
        },
        {
            "cell_type": "markdown",
            "metadata": {},
            "source": [
                "## Advanced Usage\n",
                "\n",
                "### With Custom Schema\n"
            ]
        },
        {
            "cell_type": "code",
            "execution_count": 7,
            "metadata": {},
            "outputs": [
                {
                    "name": "stdout",
                    "output_type": "stream",
                    "text": [
                        "{'data': {'products': [{'price': 9.99, 'title': 'Essence Mascara Lash Princess'}, {'price': 19.99, 'title': 'Eyeshadow Palette with Mirror'}, {'price': 14.99, 'title': 'Powder Canister'}, {'price': 12.99, 'title': 'Red Lipstick'}, {'price': 8.99, 'title': 'Red Nail Polish'}, {'price': 49.99, 'title': 'Calvin Klein CK One'}, {'price': 129.99, 'title': 'Chanel Coco Noir Eau De'}, {'price': 89.99, 'title': \"Dior J'adore\"}, {'price': 69.99, 'title': 'Dolce Shine Eau de'}, {'price': 79.99, 'title': 'Gucci Bloom Eau de'}]}, 'error': None}\n"
                    ]
                }
            ],
            "source": [
                "from pydantic import BaseModel\n",
                "from typing import List\n",
                "\n",
                "\n",
                "class ProductSchema(BaseModel):\n",
                "    title: str\n",
                "    price: float\n",
                "\n",
                "\n",
                "class ProductsSchema(BaseModel):\n",
                "    products: List[ProductSchema]\n",
                "\n",
                "\n",
                "result = HyperbrowserExtractTool().run(\n",
                "    {\n",
                "        \"url\": \"https://dummyjson.com/products?limit=10\",\n",
                "        \"extraction_prompt\": \"Extract the product details\",\n",
                "        \"json_schema\": ProductsSchema,\n",
                "    }\n",
                ")\n",
                "print(result)"
            ]
        },
        {
            "cell_type": "markdown",
            "metadata": {},
            "source": [
                "### With Custom Session Options\n"
            ]
        },
        {
            "cell_type": "code",
            "execution_count": 9,
            "metadata": {},
            "outputs": [
                {
                    "name": "stdout",
                    "output_type": "stream",
                    "text": [
                        "{'data': {'products': [{'price': 9.99, 'title': 'Essence Mascara Lash Princess'}, {'price': 19.99, 'title': 'Eyeshadow Palette with Mirror'}, {'price': 14.99, 'title': 'Powder Canister'}, {'price': 12.99, 'title': 'Red Lipstick'}, {'price': 8.99, 'title': 'Red Nail Polish'}, {'price': 49.99, 'title': 'Calvin Klein CK One'}, {'price': 129.99, 'title': 'Chanel Coco Noir Eau De'}, {'price': 89.99, 'title': \"Dior J'adore\"}, {'price': 69.99, 'title': 'Dolce Shine Eau de'}, {'price': 79.99, 'title': 'Gucci Bloom Eau de'}]}, 'error': None}\n"
                    ]
                }
            ],
            "source": [
                "result = HyperbrowserExtractTool().run(\n",
                "    {\n",
                "        \"url\": \"https://dummyjson.com/products?limit=10\",\n",
                "        \"extraction_prompt\": \"Extract the product details\",\n",
                "        \"json_schema\": ProductsSchema,\n",
                "        \"session_options\": {\"session_options\": {\"use_proxy\": True}},\n",
                "    }\n",
                ")\n",
                "print(result)"
            ]
        },
        {
            "cell_type": "markdown",
            "metadata": {},
            "source": [
                "### Using in an Agent\n"
            ]
        },
        {
            "cell_type": "code",
            "execution_count": null,
            "metadata": {},
            "outputs": [
                {
                    "name": "stdout",
                    "output_type": "stream",
                    "text": [
                        "hb_f73d5244f0c1a74514ef1340c0ca\n",
                        "\n",
                        "\n",
                        "\u001b[1m> Entering new AgentExecutor chain...\u001b[0m\n",
                        "\u001b[32;1m\u001b[1;3m\n",
                        "Invoking: `hyperbrowser_extract_data` with `{'url': 'https://dummyjson.com/products?limit=10', 'extraction_prompt': 'Extract product information', 'json_schema': None}`\n",
                        "\n",
                        "\n",
                        "\u001b[0m\u001b[36;1m\u001b[1;3m{'data': {'price': 9.99, 'images': ['https://cdn.dummyjson.com/products/images/beauty/Essence%20Mascara%20Lash%20Princess/1.png'], 'category': 'beauty', 'currency': 'USD', 'productID': 'RCH45Q1A', 'description': 'The Essence Mascara Lash Princess is a popular mascara known for its volumizing and lengthening effects. Achieve dramatic lashes with this long-lasting and cruelty-free formula.', 'productName': 'Essence Mascara Lash Princess', 'availability': True}, 'error': None}\u001b[0m\u001b[32;1m\u001b[1;3mI have extracted product information from the website:\n",
                        "\n",
                        "- Product Name: Essence Mascara Lash Princess\n",
                        "- Category: Beauty\n",
                        "- Price: $9.99\n",
                        "- Currency: USD\n",
                        "- Product ID: RCH45Q1A\n",
                        "- Description: The Essence Mascara Lash Princess is a popular mascara known for its volumizing and lengthening effects. Achieve dramatic lashes with this long-lasting and cruelty-free formula.\n",
                        "- Availability: Available\n",
                        "\n",
                        "![Product Image](https://cdn.dummyjson.com/products/images/beauty/Essence%20Mascara%20Lash%20Princess/1.png)\u001b[0m\n",
                        "\n",
                        "\u001b[1m> Finished chain.\u001b[0m\n",
                        "{'input': 'Extract product information from https://dummyjson.com/products?limit=10', 'output': 'I have extracted product information from the website:\\n\\n- Product Name: Essence Mascara Lash Princess\\n- Category: Beauty\\n- Price: $9.99\\n- Currency: USD\\n- Product ID: RCH45Q1A\\n- Description: The Essence Mascara Lash Princess is a popular mascara known for its volumizing and lengthening effects. Achieve dramatic lashes with this long-lasting and cruelty-free formula.\\n- Availability: Available\\n\\n![Product Image](https://cdn.dummyjson.com/products/images/beauty/Essence%20Mascara%20Lash%20Princess/1.png)'}\n"
                    ]
                }
            ],
            "source": [
                "from langchain.agents import AgentExecutor, create_openai_functions_agent\n",
                "from langchain_openai import ChatOpenAI\n",
                "from langchain_hyperbrowser import HyperbrowserExtractTool\n",
                "from langchain.prompts import ChatPromptTemplate, MessagesPlaceholder\n",
                "\n",
                "\n",
                "# Initialize the extract tool with your API key\n",
                "extract_tool = HyperbrowserExtractTool()\n",
                "# Create the agent with the extract tool\n",
                "llm = ChatOpenAI(temperature=0)\n",
                "prompt = ChatPromptTemplate.from_messages(\n",
                "    [\n",
                "        (\n",
                "            \"system\",\n",
                "            \"You are a helpful assistant that extracts information from websites.\",\n",
                "        ),\n",
                "        (\"human\", \"{input}\"),\n",
                "        MessagesPlaceholder(variable_name=\"agent_scratchpad\"),\n",
                "    ]\n",
                ")\n",
                "agent = create_openai_functions_agent(llm, [extract_tool], prompt=prompt)\n",
                "agent_executor = AgentExecutor(agent=agent, tools=[extract_tool], verbose=True)\n",
                "\n",
                "# Run the agent\n",
                "result = agent_executor.invoke(\n",
                "    {\n",
                "        \"input\": \"Extract product information from https://dummyjson.com/products?limit=10\"\n",
                "    }\n",
                ")\n",
                "print(result)"
            ]
        },
        {
            "cell_type": "markdown",
            "metadata": {},
            "source": [
                "### Async Usage\n"
            ]
        },
        {
            "cell_type": "code",
            "execution_count": 10,
            "metadata": {},
            "outputs": [],
            "source": [
                "async def extract_data():\n",
                "    tool = HyperbrowserExtractTool()\n",
                "    result = await tool.arun(\n",
                "        {\n",
                "            \"url\": \"https://example.com\",\n",
                "            \"extraction_prompt\": \"Extract the main content\",\n",
                "            \"json_schema\": None,\n",
                "        }\n",
                "    )\n",
                "    return result\n",
                "\n",
                "\n",
                "result = await extract_data()"
            ]
        },
        {
            "cell_type": "code",
            "execution_count": 11,
            "metadata": {},
            "outputs": [
                {
                    "name": "stdout",
                    "output_type": "stream",
                    "text": [
                        "{'data': {'mainContent': 'This domain is for use in illustrative examples in documents. You may use this domain in literature without prior coordination or asking for permission.'}, 'error': None}\n"
                    ]
                }
            ],
            "source": [
                "print(result)"
            ]
        },
        {
            "cell_type": "markdown",
            "metadata": {},
            "source": [
                "## API reference\n",
                "\n",
                "- [GitHub](https://github.com/hyperbrowserai/langchain-hyperbrowser/)\n",
                "- [PyPi](https://pypi.org/project/langchain-hyperbrowser/)\n",
                "- [Hyperbrowser Docs](https://docs.hyperbrowser.ai/)\n"
            ]
        }
    ],
    "metadata": {
        "kernelspec": {
            "display_name": ".venv",
            "language": "python",
            "name": "python3"
        },
        "language_info": {
            "codemirror_mode": {
                "name": "ipython",
                "version": 3
            },
            "file_extension": ".py",
            "mimetype": "text/x-python",
            "name": "python",
            "nbconvert_exporter": "python",
            "pygments_lexer": "ipython3",
            "version": "3.13.2"
        }
    },
    "nbformat": 4,
    "nbformat_minor": 4
}
