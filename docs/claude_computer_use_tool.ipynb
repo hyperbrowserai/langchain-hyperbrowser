{
    "cells": [
        {
            "cell_type": "markdown",
            "metadata": {},
            "source": [
                "---\n",
                "sidebar_label: Hyperbrowser Claude Computer Use\n",
                "---\n"
            ]
        },
        {
            "cell_type": "markdown",
            "metadata": {},
            "source": [
                "# Claude Computer Use Tool\n",
                "\n",
                "The `HyperbrowserClaudeComputerUseTool` is a specialized tool that leverages Claude's computer use capabilities through Hyperbrowser. It allows Claude to interact with web pages and perform complex tasks using natural language instructions.\n",
                "\n",
                "## Overview\n",
                "\n",
                "### Integration details\n",
                "\n",
                "| Tool                     | Package                | Local | Serializable | [JS support](https://js.langchain.com/docs/integrations/document_loaders/web_loaders/langchain_hyperbrowser_loader) |\n",
                "| :----------------------- | :--------------------- | :---: | :----------: | :-----------------------------------------------------------------------------------------------------------------: |\n",
                "| Claude Computer Use Tool | langchain-hyperbrowser |  ❌   |      ❌      |                                                         ❌                                                          |\n",
                "\n",
                "## Setup\n",
                "\n",
                "To access the Claude Computer Use tool you'll need to install the `langchain-hyperbrowser` integration package, and create a Hyperbrowser account and get an API key.\n",
                "\n",
                "### Credentials\n",
                "\n",
                "Head to [Hyperbrowser](https://app.hyperbrowser.ai/) to sign up and generate an API key. Once you've done this set the HYPERBROWSER_API_KEY environment variable:\n",
                "\n",
                "```bash\n",
                "export HYPERBROWSER_API_KEY=<your-api-key>\n",
                "```\n"
            ]
        },
        {
            "cell_type": "markdown",
            "metadata": {},
            "source": [
                "### Installation\n",
                "\n",
                "Install **langchain-hyperbrowser**.\n"
            ]
        },
        {
            "cell_type": "code",
            "execution_count": null,
            "metadata": {},
            "outputs": [],
            "source": [
                "%pip install -qU langchain-hyperbrowser"
            ]
        },
        {
            "cell_type": "markdown",
            "metadata": {},
            "source": [
                "## Basic Usage\n",
                "\n",
                "### Simple Task\n"
            ]
        },
        {
            "cell_type": "code",
            "execution_count": 2,
            "metadata": {},
            "outputs": [
                {
                    "name": "stdout",
                    "output_type": "stream",
                    "text": [
                        "{'data': \"Now I'll summarize the top 5 posts on Hacker News as of April 1, 2025:\\n\\n### Top 5 Hacker News Posts Summary\\n\\n1. **A man powers home for eight years using a thousand old laptop batteries** (techoreon.com)\\n   - 267 points, posted 5 hours ago\\n   - An innovative DIY project where someone managed to power their home using recycled laptop batteries for an extended period.\\n\\n2. **Electron band structure in germanium, my ass** (wisc.edu)\\n   - 611 points, posted 8 hours ago\\n   - Academic or technical discussion about electron band structure in germanium, possibly with a controversial or humorous take given the title.\\n\\n3. **Bletchley code breaker Betty Webb dies aged 101** (bbc.com)\\n   - 575 points, posted 8 hours ago\\n   - Obituary for Betty Webb, who worked as a code breaker at Bletchley Park during WWII, passing away at the age of 101.\\n\\n4. **Show HN: Zig Topological Sort Library for Parallel Processing** (github.com/williamw520)\\n   - 55 points, posted 3 hours ago\\n   - A developer sharing a library written in Zig programming language for topological sorting that supports parallel processing.\\n\\n5. **The Myst Graph: A New Perspective on Myst** (githr.com)\\n   - 107 points, posted 5 hours ago\\n   - An article presenting a new analysis or visualization of the classic video game Myst, likely using graph theory.\\n\\nThese are the top 5 posts currently trending on Hacker News as of April 1, 2025.\", 'error': None}\n"
                    ]
                }
            ],
            "source": [
                "from langchain_hyperbrowser import HyperbrowserClaudeComputerUseTool\n",
                "\n",
                "tool = HyperbrowserClaudeComputerUseTool()\n",
                "result = tool.run({\"task\": \"Go to Hacker News and summarize the top 5 posts right now\"})\n",
                "print(result)"
            ]
        },
        {
            "cell_type": "markdown",
            "metadata": {},
            "source": [
                "## Advanced Usage\n",
                "\n",
                "### With Custom Session Options\n"
            ]
        },
        {
            "cell_type": "code",
            "execution_count": 3,
            "metadata": {},
            "outputs": [],
            "source": [
                "result = tool.run(\n",
                "    {\n",
                "        \"task\": \"Go to npmjs.com, and tell me when react package was last updated.\",\n",
                "        \"session_options\": {\n",
                "            \"session_options\": {\"use_proxy\": True, \"accept_cookies\": True}\n",
                "        },\n",
                "    }\n",
                ")\n",
                "print(result)"
            ]
        },
        {
            "cell_type": "markdown",
            "metadata": {},
            "source": [
                "### Using in an Agent\n"
            ]
        },
        {
            "cell_type": "code",
            "execution_count": 5,
            "metadata": {},
            "outputs": [
                {
                    "name": "stdout",
                    "output_type": "stream",
                    "text": [
                        "\n",
                        "\n",
                        "\u001b[1m> Entering new AgentExecutor chain...\u001b[0m\n",
                        "\u001b[32;1m\u001b[1;3m\n",
                        "Invoking: `hyperbrowser_browser_use` with `{'task': 'Go to npmjs.com and extract the last updated date of the React package.', 'max_failures': 3, 'max_steps': 20}`\n",
                        "\n",
                        "\n",
                        "\u001b[0m\u001b[36;1m\u001b[1;3m{'data': 'I\\'ve found even more specific information about the React package\\'s last update:\\n\\nUnder \"Last publish\", it shows \"4 hours ago\". This is a more specific timestamp than the \"4 days ago\" we saw earlier.\\n\\nTo summarize:\\n- The React package version is 19.1.0\\n- It was last published/updated 4 hours ago on April 1, 2025 (today\\'s date)\\n\\nThis is the most recent information about when the React package was last updated.', 'error': None}\u001b[0m\u001b[32;1m\u001b[1;3mThe React package was last updated 4 hours ago on April 1, 2025.\u001b[0m\n",
                        "\n",
                        "\u001b[1m> Finished chain.\u001b[0m\n"
                    ]
                }
            ],
            "source": [
                "from langchain.agents import AgentExecutor, create_openai_functions_agent\n",
                "from langchain_openai import ChatOpenAI\n",
                "from langchain_hyperbrowser import browser_use_tool\n",
                "from langchain.prompts import ChatPromptTemplate, MessagesPlaceholder\n",
                "\n",
                "llm = ChatOpenAI(temperature=0)\n",
                "\n",
                "prompt = ChatPromptTemplate.from_messages(\n",
                "    [\n",
                "        (\n",
                "            \"system\",\n",
                "            \"You are a helpful assistant that extracts information from websites.\",\n",
                "        ),\n",
                "        (\"human\", \"{input}\"),\n",
                "        MessagesPlaceholder(variable_name=\"agent_scratchpad\"),\n",
                "    ]\n",
                ")\n",
                "\n",
                "\n",
                "browser_use_tool = HyperbrowserClaudeComputerUseTool()\n",
                "\n",
                "agent = create_openai_functions_agent(llm, [browser_use_tool], prompt=prompt)\n",
                "agent_executor = AgentExecutor(agent=agent, tools=[browser_use_tool], verbose=True)\n",
                "\n",
                "result = agent_executor.invoke(\n",
                "    {\"input\": \"Go to npmjs.com, and tell me when react package was last updated.\"}\n",
                ")"
            ]
        },
        {
            "cell_type": "markdown",
            "metadata": {},
            "source": [
                "### Async Usage\n"
            ]
        },
        {
            "cell_type": "code",
            "execution_count": 7,
            "metadata": {},
            "outputs": [],
            "source": [
                "async def use_computer():\n",
                "    result = await tool.arun({\"task\": \"Find the contact listed on example.com\"})\n",
                "    return result\n",
                "\n",
                "\n",
                "result = await use_computer()"
            ]
        },
        {
            "cell_type": "code",
            "execution_count": 8,
            "metadata": {},
            "outputs": [
                {
                    "name": "stdout",
                    "output_type": "stream",
                    "text": [
                        "{'data': \"I've found the contact information for IANA (Internet Assigned Numbers Authority), which manages the example.com domain. Here are the contact details:\\n\\nGeneral email contact:\\n- iana@iana.org\\n\\nPostal address:\\n- Internet Assigned Numbers Authority\\n- 12025 Waterfront Drive, Suite 300\\n- Los Angeles CA 90094\\n- USA\\n\\nTelephone contacts:\\n- +1-424-254-5300 (phone)\\n- +1-424-254-5033 (facsimile)\\n\\nThis information is for IANA, which manages the example.com domain. Example.com is a reserved domain used for illustrative purposes in documentation, as mentioned on the website. It is not meant for commercial use and is maintained by IANA for documentation purposes as described in RFC 2606 and RFC 6761.\", 'error': None}\n"
                    ]
                }
            ],
            "source": [
                "print(result)"
            ]
        },
        {
            "cell_type": "markdown",
            "metadata": {},
            "source": [
                "## Configuration Options\n",
                "\n",
                "The Claude Computer Use tool supports various configuration options:\n",
                "\n",
                "- `task`: The task to execute using the Claude Computer Use agent\n",
                "- `max_failures`: The maximum number of consecutive failures allowed before the task is aborted\n",
                "- `max_steps`: The maximum number of interaction steps the agent can take to complete the task\n",
                "- `session_options`: Browser session configuration\n",
                "\n",
                "For more details, see the [Claude Computer Use API Reference](https://docs.hyperbrowser.ai/reference/api-reference/agents/claude-computer-use).\n"
            ]
        },
        {
            "cell_type": "markdown",
            "metadata": {},
            "source": [
                "## API reference\n",
                "\n",
                "- [GitHub](https://github.com/hyperbrowserai/langchain-hyperbrowser/)\n",
                "- [PyPi](https://pypi.org/project/langchain-hyperbrowser/)\n",
                "- [Hyperbrowser Docs](https://docs.hyperbrowser.ai/)\n"
            ]
        }
    ],
    "metadata": {
        "kernelspec": {
            "display_name": ".venv",
            "language": "python",
            "name": "python3"
        },
        "language_info": {
            "codemirror_mode": {
                "name": "ipython",
                "version": 3
            },
            "file_extension": ".py",
            "mimetype": "text/x-python",
            "name": "python",
            "nbconvert_exporter": "python",
            "pygments_lexer": "ipython3",
            "version": "3.13.2"
        }
    },
    "nbformat": 4,
    "nbformat_minor": 4
}
