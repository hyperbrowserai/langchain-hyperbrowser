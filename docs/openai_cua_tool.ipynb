{
    "cells": [
        {
            "cell_type": "markdown",
            "metadata": {},
            "source": [
                "---\n",
                "sidebar_label: Hyperbrowser OpenAI CUA\n",
                "---\n"
            ]
        },
        {
            "cell_type": "markdown",
            "metadata": {},
            "source": [
                "# OpenAI CUA Tool\n",
                "\n",
                "The `HyperbrowserOpenAICUATool` is a specialized tool that leverages OpenAI's Computer Use Agent (CUA) capabilities through Hyperbrowser. It allows the agent to interact with web pages and perform complex tasks using natural language instructions.\n",
                "\n",
                "## Overview\n",
                "\n",
                "### Integration details\n",
                "\n",
                "| Tool            | Package                | Local | Serializable | [JS support](https://js.langchain.com/docs/integrations/document_loaders/web_loaders/langchain_hyperbrowser_loader) |\n",
                "| :-------------- | :--------------------- | :---: | :----------: | :-----------------------------------------------------------------------------------------------------------------: |\n",
                "| OpenAI CUA Tool | langchain-hyperbrowser |  ❌   |      ❌      |                                                         ❌                                                          |\n",
                "\n",
                "## Setup\n",
                "\n",
                "To access the OpenAI CUA tool you'll need to install the `langchain-hyperbrowser` integration package, and create a Hyperbrowser account and get an API key.\n",
                "\n",
                "### Credentials\n",
                "\n",
                "Head to [Hyperbrowser](https://app.hyperbrowser.ai/) to sign up and generate an API key. Once you've done this set the HYPERBROWSER_API_KEY environment variable:\n",
                "\n",
                "```bash\n",
                "export HYPERBROWSER_API_KEY=<your-api-key>\n",
                "```\n"
            ]
        },
        {
            "cell_type": "markdown",
            "metadata": {},
            "source": [
                "### Installation\n",
                "\n",
                "Install **langchain-hyperbrowser**.\n"
            ]
        },
        {
            "cell_type": "code",
            "execution_count": null,
            "metadata": {},
            "outputs": [],
            "source": [
                "%pip install -qU langchain-hyperbrowser"
            ]
        },
        {
            "cell_type": "markdown",
            "metadata": {},
            "source": [
                "## Basic Usage\n",
                "\n",
                "### Simple Task\n"
            ]
        },
        {
            "cell_type": "code",
            "execution_count": 3,
            "metadata": {},
            "outputs": [
                {
                    "name": "stdout",
                    "output_type": "stream",
                    "text": [
                        "{'data': 'Here are the titles of the top 5 posts on Hacker News right now:\\n\\n1. \"DEDA – Tracking Dots Extraction, Decoding and Anonymisation Toolkit\"\\n2. \"A man powers home for eight years using a thousand old laptop batteries\"\\n3. \"Electron band structure in Germanium, my ass\"\\n4. \"Bletchley code breaker Betty Webb dies aged 101\"\\n5. \"Show HN: Zig Topological Sort Library for Parallel Processing\"', 'error': None}\n"
                    ]
                }
            ],
            "source": [
                "from langchain_hyperbrowser import HyperbrowserOpenAICUATool\n",
                "\n",
                "tool = HyperbrowserOpenAICUATool()\n",
                "result = tool.run({\"task\": \"Go to Hacker News and get me the title of the top 5 posts right now\"})\n",
                "print(result)"
            ]
        },
        {
            "cell_type": "markdown",
            "metadata": {},
            "source": [
                "## Advanced Usage\n",
                "\n",
                "### With Custom Session Options\n"
            ]
        },
        {
            "cell_type": "code",
            "execution_count": 4,
            "metadata": {},
            "outputs": [
                {
                    "name": "stdout",
                    "output_type": "stream",
                    "text": [
                        "{'data': \"The 'react' package page shows detailed information, confirming it was last published 5 hours ago. Would you like any additional information about this package?\", 'error': None}\n"
                    ]
                }
            ],
            "source": [
                "result = tool.run(\n",
                "    {\n",
                "        \"task\": \"Go to npmjs.com, and tell me when react package was last updated.\",\n",
                "        \"session_options\": {\n",
                "            \"session_options\": {\"use_proxy\": True, \"accept_cookies\": True}\n",
                "        },\n",
                "    }\n",
                ")\n",
                "print(result)"
            ]
        },
        {
            "cell_type": "markdown",
            "metadata": {},
            "source": [
                "### Using in an Agent\n"
            ]
        },
        {
            "cell_type": "code",
            "execution_count": 6,
            "metadata": {},
            "outputs": [
                {
                    "name": "stdout",
                    "output_type": "stream",
                    "text": [
                        "\n",
                        "\n",
                        "\u001b[1m> Entering new AgentExecutor chain...\u001b[0m\n",
                        "\u001b[32;1m\u001b[1;3m\n",
                        "Invoking: `hyperbrowser_browser_use` with `{'task': 'Go to npmjs.com and extract the last updated date of the React package.', 'max_failures': 3, 'max_steps': 20}`\n",
                        "\n",
                        "\n",
                        "\u001b[0m\u001b[36;1m\u001b[1;3m{'data': 'The React package was last updated 4 hours ago.', 'error': None}\u001b[0m\u001b[32;1m\u001b[1;3mThe React package was last updated 4 hours ago.\u001b[0m\n",
                        "\n",
                        "\u001b[1m> Finished chain.\u001b[0m\n"
                    ]
                }
            ],
            "source": [
                "from langchain.agents import AgentExecutor, create_openai_functions_agent\n",
                "from langchain_openai import ChatOpenAI\n",
                "from langchain_hyperbrowser import browser_use_tool\n",
                "from langchain.prompts import ChatPromptTemplate, MessagesPlaceholder\n",
                "\n",
                "llm = ChatOpenAI(temperature=0)\n",
                "\n",
                "prompt = ChatPromptTemplate.from_messages(\n",
                "    [\n",
                "        (\n",
                "            \"system\",\n",
                "            \"You are a helpful assistant that extracts information from websites.\",\n",
                "        ),\n",
                "        (\"human\", \"{input}\"),\n",
                "        MessagesPlaceholder(variable_name=\"agent_scratchpad\"),\n",
                "    ]\n",
                ")\n",
                "\n",
                "\n",
                "browser_use_tool = HyperbrowserOpenAICUATool()\n",
                "\n",
                "agent = create_openai_functions_agent(llm, [browser_use_tool], prompt=prompt)\n",
                "agent_executor = AgentExecutor(agent=agent, tools=[browser_use_tool], verbose=True)\n",
                "\n",
                "result = agent_executor.invoke(\n",
                "    {\"input\": \"Go to npmjs.com, and tell me when react package was last updated.\"}\n",
                ")"
            ]
        },
        {
            "cell_type": "markdown",
            "metadata": {},
            "source": [
                "### Async Usage\n"
            ]
        },
        {
            "cell_type": "code",
            "execution_count": 5,
            "metadata": {},
            "outputs": [
                {
                    "name": "stdout",
                    "output_type": "stream",
                    "text": [
                        "{'data': 'The page displays information about the \"Example Domain,\" stating that it is used for illustrative purposes and can be utilized without permission. There\\'s a link to \"More information...\" but no specific contact details are provided.', 'error': None}\n"
                    ]
                }
            ],
            "source": [
                "async def use_computer():\n",
                "    result = await tool.arun({\"task\": \"Find the contact information listed on example.com\"})\n",
                "    return result\n",
                "\n",
                "\n",
                "result = await use_computer()\n",
                "print(result)"
            ]
        },
        {
            "cell_type": "markdown",
            "metadata": {},
            "source": [
                "## Configuration Options\n",
                "\n",
                "The OpenAI CUA tool supports various configuration options:\n",
                "\n",
                "- `task`: The task to execute using the OpenAI CUA agent\n",
                "- `max_failures`: The maximum number of consecutive failures allowed before the task is aborted\n",
                "- `max_steps`: The maximum number of interaction steps the agent can take to complete the task\n",
                "- `session_options`: Browser session configuration\n",
                "\n",
                "For more details, see the [OpenAI CUA API Reference](https://docs.hyperbrowser.ai/reference/api-reference/agents/openai-cua).\n"
            ]
        },
        {
            "cell_type": "markdown",
            "metadata": {},
            "source": [
                "## API reference\n",
                "\n",
                "- [GitHub](https://github.com/hyperbrowserai/langchain-hyperbrowser/)\n",
                "- [PyPi](https://pypi.org/project/langchain-hyperbrowser/)\n",
                "- [Hyperbrowser Docs](https://docs.hyperbrowser.ai/)\n"
            ]
        }
    ],
    "metadata": {
        "kernelspec": {
            "display_name": ".venv",
            "language": "python",
            "name": "python3"
        },
        "language_info": {
            "codemirror_mode": {
                "name": "ipython",
                "version": 3
            },
            "file_extension": ".py",
            "mimetype": "text/x-python",
            "name": "python",
            "nbconvert_exporter": "python",
            "pygments_lexer": "ipython3",
            "version": "3.13.2"
        }
    },
    "nbformat": 4,
    "nbformat_minor": 4
}
